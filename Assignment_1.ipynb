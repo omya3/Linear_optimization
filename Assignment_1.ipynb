{
 "cells": [
  {
   "cell_type": "code",
   "execution_count": 1,
   "id": "b375c7eb-c8e1-4779-bc18-8bb61944bf51",
   "metadata": {
    "tags": []
   },
   "outputs": [],
   "source": [
    "import numpy as np\n",
    "import pandas as pd\n",
    "from sympy import Matrix"
   ]
  },
  {
   "cell_type": "code",
   "execution_count": 2,
   "id": "872134bc-dc86-4046-a49f-33f15a40da5b",
   "metadata": {
    "tags": []
   },
   "outputs": [],
   "source": [
    "def find_tight_rows(_A, _z, _b, epi=1e-8):\n",
    "    # the following do multiplication of Z with the corresponding A.\n",
    "    product = np.dot(_A, _z)\n",
    "\n",
    "    # Check if the product equals b_i for each row. This will also give us a TRUE/FALSE mask of the tight rows\n",
    "    tight_mask = np.abs(product - _b) < epi #this is done to prevent rounding errors in 3D cases\n",
    "    # print(tight_mask.shape)\n",
    "    # print(tight_mask)\n",
    "    # print(_A.shape)\n",
    "    A1 = _A[tight_mask.flatten()]\n",
    "    A2 = _A[~tight_mask.flatten()]\n",
    "    \n",
    "#     print(\"//////\")\n",
    "#     print(_A)\n",
    "#     print(A1)\n",
    "#     print(A2)\n",
    "    return tight_mask, A1, A2"
   ]
  },
  {
   "cell_type": "code",
   "execution_count": 3,
   "id": "40aa425c-cd1b-455e-bf8a-0b3500b3619f",
   "metadata": {
    "tags": []
   },
   "outputs": [],
   "source": [
    "def initial_feasible_vertex(A, b, c, z, dim_n):\n",
    "    \n",
    "    bool_mask, A_active, A_inactive = find_tight_rows(A, z, b)\n",
    "    \n",
    "    if len(A_active)==0:\n",
    "        rank = 0\n",
    "    else:\n",
    "        rank = np.linalg.matrix_rank(A_active)\n",
    "    \n",
    "    if rank != dim_n:\n",
    "        \n",
    "        while rank!=dim_n:\n",
    "            \n",
    "            cost = np.dot(c, z)\n",
    "            print(f\"z: {tuple(z.flatten())}, Cost: {np.round(cost[0], 2)}\")\n",
    "            \n",
    "            direction = None\n",
    "            \n",
    "            if A_active.shape[0] == 0:\n",
    "                direction = np.random.rand(untight_rows.shape[-1])\n",
    "            else:\n",
    "                null_space_matrix = null_space(tight_rows)\n",
    "                direction = null_space_matrix[:, 0]\n",
    "            \n",
    "            step_magnitudes = []\n",
    "            for b_, a_ in zip(b[bool_mask], A_inactive):\n",
    "                step_magnitudes.append((b_ - np.dot(a_, z)) / np.dot(a_, direction))\n",
    "            \n",
    "            step_magnitudes = np.array(step_magnitudes)\n",
    "            step_magnitudes = step_magnitudes[np.where(step_magnitudes > 0)[0]]\n",
    "            # print(step_magnitudes)\n",
    "            min_step_magnitude = np.min(step_magnitudes)\n",
    "            \n",
    "            z += min_step_magnitude * direction\n",
    "            \n",
    "            bool_mask, A_active, A_inactive = find_tight_rows(A, z, b)\n",
    "            \n",
    "            if len(A_active)==0:\n",
    "                rank = 0\n",
    "            else:\n",
    "                rank = np.linalg.matrix_rank(A_active)\n",
    "                \n",
    "    return z"
   ]
  },
  {
   "cell_type": "code",
   "execution_count": 4,
   "id": "f9787951-e743-4674-aea8-29325ce0b63a",
   "metadata": {
    "tags": []
   },
   "outputs": [],
   "source": [
    "def find_optimal_vertex(A, b, c, z):\n",
    "    \n",
    "    print(\"\\nJourney to an optimal vertex:\")\n",
    "    \n",
    "    # Identify active constraints where A·z = b\n",
    "    bool_mask, A_active, A_inactive = find_tight_rows(A, z, b)\n",
    "    \n",
    "    # Compute initial reduced costs\n",
    "    epsilons = -1*np.linalg.inv(A_active).T\n",
    "    epsilons = epsilons.dot(c)\n",
    "\n",
    "    while np.any(epsilons > 0):  # While there are negative reduced costs\n",
    "        beta = 1e-1  # Step size\n",
    "        cost = np.dot(c.T, z)  # Calculate current objective value\n",
    "        print(f\"z: {tuple(z.flatten())}; Cost: {np.round(cost[0], 2)}\")\n",
    "\n",
    "        # Find the direction of improvement (negative reduced cost)\n",
    "        A_active_inv = np.linalg.inv(A_active)\n",
    "        directions = -1*A_active_inv\n",
    "        \n",
    "        direction = None\n",
    "        for i, epsilon in enumerate(epsilons):\n",
    "            if epsilon > 0:\n",
    "                direction = directions[:, i:i + 1]\n",
    "                break\n",
    "        \n",
    "        if direction is None:\n",
    "            print(\"No direction for improvement found.\")\n",
    "            break        \n",
    "        \n",
    "        step_magnitudes = []\n",
    "        # print(A_inactive)\n",
    "        # print(z)\n",
    "        # print(b[~bool_mask])\n",
    "        for b_, a_ in zip(b[~bool_mask], A_inactive):\n",
    "            step_magnitudes.append((b_ - np.dot(a_, z)) / np.dot(a_, direction))\n",
    "        \n",
    "        # print(direction)\n",
    "        step_magnitudes = np.array(step_magnitudes)\n",
    "        # print(step_magnitudes)\n",
    "        step_magnitudes = step_magnitudes[np.where(step_magnitudes > 0)[0]]\n",
    "        \n",
    "        min_step_magnitude = np.min(step_magnitudes)\n",
    "        # print(min_step_magnitude)\n",
    "        \n",
    "        z = z.astype(float)\n",
    "        z += min_step_magnitude * direction\n",
    "        \n",
    "        bool_mask, A_active, A_inactive = find_tight_rows(A, z, b)\n",
    "        epsilons = -1*np.linalg.inv(A_active).T\n",
    "        epsilons = epsilons.dot(c)\n",
    "\n",
    "    # Print the final optimal vertex and cost\n",
    "    cost = np.dot(c.T, z)\n",
    "    print(f\"Optimal Vertex: z = {tuple(z.flatten())}; Cost = {np.round(cost[0], 2)}\")\n",
    "\n",
    "    return z\n"
   ]
  },
  {
   "cell_type": "code",
   "execution_count": 5,
   "id": "4804d878-57f0-43db-baa2-19d6027888c2",
   "metadata": {
    "tags": []
   },
   "outputs": [],
   "source": [
    "def main():\n",
    "    file_name = 'asg_1_test_case.csv'\n",
    "    problem_stmt = pd.read_csv(file_name, header=None)\n",
    "    \n",
    "    z = problem_stmt.iloc[0, :-1].values.reshape(-1, 1)\n",
    "    c = problem_stmt.iloc[1, :-1].values\n",
    "    b = problem_stmt.iloc[2:, -1:].values\n",
    "    A = problem_stmt.iloc[2:, :-1].values\n",
    "    \n",
    "    # print(z.shape)\n",
    "    # print(c.shape)\n",
    "    # print(b.shape)\n",
    "    # print(A.shape)\n",
    "    # print(\"///\")\n",
    "    \n",
    "    initital_neighbour = initial_feasible_vertex(A, b, c, z, len(c))\n",
    "    # print(initital_neighbour)\n",
    "    \n",
    "    optimal_vertex = find_optimal_vertex(A, b, c, initital_neighbour)\n",
    "    \n",
    "    # z_optimal, z_cost_all, z_all = vertex_to_vertex_assign1(A, b, z, c, len(c))\n",
    "    \n",
    "    #print(optimal_vertex)"
   ]
  },
  {
   "cell_type": "code",
   "execution_count": 6,
   "id": "b033f12c-5a9f-4e76-b629-f6229b0f2a5c",
   "metadata": {
    "tags": []
   },
   "outputs": [
    {
     "name": "stdout",
     "output_type": "stream",
     "text": [
      "\n",
      "Journey to an optimal vertex:\n",
      "z: (5, 0, 0); Cost: 10\n",
      "Optimal Vertex: z = (5.0, 0.0, 2.5); Cost = 15.0\n"
     ]
    },
    {
     "name": "stderr",
     "output_type": "stream",
     "text": [
      "/var/folders/c2/8jzgq8jj1l3600fxnvmzkg0w0000gn/T/ipykernel_7070/2238840791.py:36: RuntimeWarning: divide by zero encountered in divide\n",
      "  step_magnitudes.append((b_ - np.dot(a_, z)) / np.dot(a_, direction))\n"
     ]
    }
   ],
   "source": [
    "main()\n",
    " \n",
    "# Test input for above Output\n",
    "\n",
    "# 5,0,0,0\n",
    "# 2,-1,2,0\n",
    "# 2,1,0,10\n",
    "# 1,2,-2,20\n",
    "# 0,1,2,5\n",
    "# -1,0,0,0\n",
    "# 0,-1,0,0\n",
    "# 0,0,-1,0"
   ]
  },
  {
   "cell_type": "code",
   "execution_count": null,
   "id": "8c92847e-171d-4848-b865-ee6493e7db0f",
   "metadata": {},
   "outputs": [],
   "source": []
  }
 ],
 "metadata": {
  "kernelspec": {
   "display_name": "Python 3 (ipykernel)",
   "language": "python",
   "name": "python3"
  },
  "language_info": {
   "codemirror_mode": {
    "name": "ipython",
    "version": 3
   },
   "file_extension": ".py",
   "mimetype": "text/x-python",
   "name": "python",
   "nbconvert_exporter": "python",
   "pygments_lexer": "ipython3",
   "version": "3.11.5"
  }
 },
 "nbformat": 4,
 "nbformat_minor": 5
}
