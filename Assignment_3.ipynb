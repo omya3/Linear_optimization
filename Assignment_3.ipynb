{
 "cells": [
  {
   "cell_type": "code",
   "execution_count": 4,
   "id": "71441335-523f-4d7e-92b8-c26f5a768077",
   "metadata": {
    "tags": []
   },
   "outputs": [],
   "source": [
    "import numpy as np\n",
    "import pandas as pd\n",
    "from sympy import Matrix"
   ]
  },
  {
   "cell_type": "code",
   "execution_count": 5,
   "id": "71605f72-6b6a-431f-bc47-eb0a16df04d7",
   "metadata": {
    "tags": []
   },
   "outputs": [],
   "source": [
    "def find_tight_rows(_A, _z, _b, epi=1e-8):\n",
    "    # the following do multiplication of Z with the corresponding A.\n",
    "    product = np.dot(_A, _z)\n",
    "\n",
    "    # Check if the product equals b_i for each row. This will also give us a TRUE/FALSE mask of the tight rows\n",
    "    tight_mask = np.abs(product - _b) < epi #this is done to prevent rounding errors in 3D cases\n",
    "    # print(tight_mask.shape)\n",
    "    # print(tight_mask)\n",
    "    # print(_A.shape)\n",
    "    A1 = _A[tight_mask.flatten()]\n",
    "    A2 = _A[~tight_mask.flatten()]\n",
    "    \n",
    "#     print(\"//////\")\n",
    "#     print(_A)\n",
    "#     print(A1)\n",
    "#     print(A2)\n",
    "    return tight_mask, A1, A2"
   ]
  },
  {
   "cell_type": "code",
   "execution_count": 13,
   "id": "970ff0b3-04e9-4507-a8a4-6038d75aebc8",
   "metadata": {
    "tags": []
   },
   "outputs": [],
   "source": [
    "# def check_degeneracy(A_active):\n",
    "#     return A_active.shape[0] > A_active.shape[1]"
   ]
  },
  {
   "cell_type": "code",
   "execution_count": 7,
   "id": "ece6a5e6-e2b3-4c94-ac40-46e55cba4a61",
   "metadata": {
    "tags": []
   },
   "outputs": [],
   "source": [
    "def has_degeneracy(self, b):\n",
    "        # Method to check if the problem has degeneracy\n",
    "\n",
    "        # Find indices where the constraints are satisfied with equality\n",
    "        equality_indices = np.where(np.abs(np.dot(self.A, (self.polishing(b))) - b) < self.Tolerance)[0]\n",
    "\n",
    "        # check if the number of equality indices is equal to the number of variables\n",
    "        return len(equality_indices) != self.A.shape[1]\n",
    "\n",
    "def correct_degeneracy(self, b):\n",
    "    # Method to correct degeneracy in the linear programming problem\n",
    "\n",
    "    # calculate the number of rows to be modified\n",
    "    rows_modified = (self.A.shape[0]) - (self.A.shape[1])\n",
    "\n",
    "    n = 0\n",
    "\n",
    "    while True:\n",
    "        n += 1\n",
    "        temp_b = b.astype(np.float64)\n",
    "\n",
    "        if n < 1000:\n",
    "            temp_b[:rows_modified] += np.random.uniform(self.Tolerance, self.Tolerance * 10, size=rows_modified)\n",
    "        else:\n",
    "            temp_b[:rows_modified] += np.random.uniform(0.1, 10, size=rows_modified)\n",
    "\n",
    "        if not self.has_degeneracy(temp_b):\n",
    "            print('Degeneracy removed')\n",
    "            return temp_b"
   ]
  },
  {
   "cell_type": "code",
   "execution_count": 8,
   "id": "1b220904-ac3c-4b30-89a3-076d2ae5d0ed",
   "metadata": {
    "tags": []
   },
   "outputs": [],
   "source": [
    "def initial_feasible_vertex(A, b, c, z, dim_n):\n",
    "    \n",
    "    bool_mask, A_active, A_inactive = find_tight_rows(A, z, b)\n",
    "    \n",
    "    if len(A_active)==0:\n",
    "        rank = 0\n",
    "    else:\n",
    "        rank = np.linalg.matrix_rank(A_active)\n",
    "    \n",
    "    if rank != dim_n:\n",
    "        \n",
    "        while rank!=dim_n:\n",
    "            \n",
    "            cost = np.dot(c, z)\n",
    "            print(f\"z: {tuple(z.flatten())}, Cost: {np.round(cost[0], 2)}\")\n",
    "            \n",
    "            direction = None\n",
    "            \n",
    "            if A_active.shape[0] == 0:\n",
    "                direction = np.random.rand(untight_rows.shape[-1])\n",
    "            else:\n",
    "                null_space_matrix = null_space(tight_rows)\n",
    "                direction = null_space_matrix[:, 0]\n",
    "            \n",
    "            while True:\n",
    "                \n",
    "                for b_, a_ in zip(b[~bool_mask], A_inactive):\n",
    "                    step_magnitudes.append((b_ - np.dot(a_, z)) / np.dot(a_, direction))\n",
    "        \n",
    "                step_magnitudes = np.array(step_magnitudes)\n",
    "                step_magnitudes = step_magnitudes[np.where(step_magnitudes > 0)[0]]\n",
    "        \n",
    "                if len(step_magnitudes) == 0:  #handling unbounded case\n",
    "                    direction = -1*direction\n",
    "                else:\n",
    "                    break\n",
    "                    \n",
    "            min_step_magnitude = np.min(step_magnitudes)\n",
    "            \n",
    "            z += min_step_magnitude * direction\n",
    "            \n",
    "            bool_mask, A_active, A_inactive = find_tight_rows(A, z, b)\n",
    "            \n",
    "            if len(A_active)==0:\n",
    "                rank = 0\n",
    "            else:\n",
    "                rank = np.linalg.matrix_rank(A_active)\n",
    "                \n",
    "                \n",
    "    return z"
   ]
  },
  {
   "cell_type": "code",
   "execution_count": 9,
   "id": "7a9cd068-b349-43af-89c8-435aaa97ef5d",
   "metadata": {
    "tags": []
   },
   "outputs": [],
   "source": [
    "def find_optimal_vertex(A, b, c, z):\n",
    "    \n",
    "    print(\"\\nJourney to an optimal vertex:\")\n",
    "    \n",
    "    # Identify active constraints where A·z = b\n",
    "    bool_mask, A_active, A_inactive = find_tight_rows(A, z, b)\n",
    "    \n",
    "    # Compute initial reduced costs\n",
    "    epsilons = -1*np.linalg.inv(A_active).T\n",
    "    epsilons = epsilons.dot(c)\n",
    "\n",
    "    while np.any(epsilons > 0):  # While there are negative reduced costs\n",
    "\n",
    "        \n",
    "        beta = 1e-1  # Step size\n",
    "        cost = np.dot(c.T, z)  # Calculate current objective value\n",
    "        print(f\"z: {tuple(z.flatten())}; Cost: {np.round(cost[0], 2)}\")\n",
    "\n",
    "        # Find the direction of improvement (negative reduced cost)\n",
    "        A_active_inv = np.linalg.inv(A_active)\n",
    "        directions = -1*A_active_inv\n",
    "        \n",
    "        direction = None\n",
    "        for i, epsilon in enumerate(epsilons):\n",
    "            if epsilon > 0:\n",
    "                direction = directions[:, i:i + 1]\n",
    "                break\n",
    "        \n",
    "        if direction is None:\n",
    "            print(\"No direction for improvement found.\")\n",
    "            break        \n",
    "        \n",
    "        step_magnitudes = []\n",
    "        # print(A_inactive)\n",
    "        # print(z)\n",
    "        # print(b[~bool_mask])\n",
    "        for b_, a_ in zip(b[~bool_mask], A_inactive):\n",
    "            step_magnitudes.append((b_ - np.dot(a_, z)) / np.dot(a_, direction))\n",
    "        \n",
    "        # print(direction)\n",
    "        step_magnitudes = np.array(step_magnitudes)\n",
    "        # print(step_magnitudes)\n",
    "        step_magnitudes = step_magnitudes[np.where(step_magnitudes > 0)[0]]\n",
    "        \n",
    "        if len(step_magnitudes) == 0 : # Handling unbounded case\n",
    "            print(f\"The problem is unbounded. Can't find a optimal solution!\")\n",
    "            return None\n",
    "        \n",
    "        min_step_magnitude = np.min(step_magnitudes)\n",
    "        # print(min_step_magnitude)\n",
    "        \n",
    "        z = z.astype(float)\n",
    "        z += min_step_magnitude * direction\n",
    "        \n",
    "        bool_mask, A_active, A_inactive = find_tight_rows(A, z, b)\n",
    "        epsilons = -1*np.linalg.inv(A_active).T\n",
    "        epsilons = epsilons.dot(c)\n",
    "\n",
    "    # Print the final optimal vertex and cost\n",
    "    cost = np.dot(c.T, z)\n",
    "    print(f\"Optimal Vertex: z = {tuple(z.flatten())}; Cost = {np.round(cost[0], 2)}\")\n",
    "\n",
    "    return z\n"
   ]
  },
  {
   "cell_type": "code",
   "execution_count": 11,
   "id": "5a77e6ec-5848-4ab8-8c57-6c7869b05538",
   "metadata": {
    "tags": []
   },
   "outputs": [],
   "source": [
    "def main():\n",
    "    file_name = 'asg_2_test_case.csv'\n",
    "    problem_stmt = pd.read_csv(file_name, header=None)\n",
    "    \n",
    "    z = problem_stmt.iloc[0, :-1].values.reshape(-1, 1)\n",
    "    c = problem_stmt.iloc[1, :-1].values\n",
    "    b = problem_stmt.iloc[2:, -1:].values\n",
    "    A = problem_stmt.iloc[2:, :-1].values\n",
    "    \n",
    "    # print(z.shape)\n",
    "    # print(c.shape)\n",
    "    # print(b.shape)\n",
    "    # print(A.shape)\n",
    "    # print(\"///\")\n",
    "    \n",
    "    b = remove_degeneracy(b)\n",
    "    \n",
    "    Az = np.dot(A,z) \n",
    "    S =  (Az <= b)\n",
    "    if False in S:\n",
    "        print(f\"\\nThe Initial Point z: {tuple(self.z)} is not feasible \")\n",
    "        return None\n",
    "\n",
    "    \n",
    "    initital_neighbour = initial_feasible_vertex(A, b, c, z, len(c))\n",
    "    # print(initital_neighbour)\n",
    "    \n",
    "    optimal_vertex = find_optimal_vertex(A, b, c, initital_neighbour)\n",
    "    \n",
    "    # z_optimal, z_cost_all, z_all = vertex_to_vertex_assign1(A, b, z, c, len(c))\n",
    "    \n",
    "    #print(optimal_vertex)"
   ]
  },
  {
   "cell_type": "code",
   "execution_count": 12,
   "id": "17574229-4ec5-47d0-8087-60d048b3be24",
   "metadata": {
    "tags": []
   },
   "outputs": [
    {
     "ename": "NameError",
     "evalue": "name 'remove_degeneracy' is not defined",
     "output_type": "error",
     "traceback": [
      "\u001b[0;31m---------------------------------------------------------------------------\u001b[0m",
      "\u001b[0;31mNameError\u001b[0m                                 Traceback (most recent call last)",
      "Cell \u001b[0;32mIn[12], line 1\u001b[0m\n\u001b[0;32m----> 1\u001b[0m main()\n",
      "Cell \u001b[0;32mIn[11], line 16\u001b[0m, in \u001b[0;36mmain\u001b[0;34m()\u001b[0m\n\u001b[1;32m      8\u001b[0m A \u001b[38;5;241m=\u001b[39m problem_stmt\u001b[38;5;241m.\u001b[39miloc[\u001b[38;5;241m2\u001b[39m:, :\u001b[38;5;241m-\u001b[39m\u001b[38;5;241m1\u001b[39m]\u001b[38;5;241m.\u001b[39mvalues\n\u001b[1;32m     10\u001b[0m \u001b[38;5;66;03m# print(z.shape)\u001b[39;00m\n\u001b[1;32m     11\u001b[0m \u001b[38;5;66;03m# print(c.shape)\u001b[39;00m\n\u001b[1;32m     12\u001b[0m \u001b[38;5;66;03m# print(b.shape)\u001b[39;00m\n\u001b[1;32m     13\u001b[0m \u001b[38;5;66;03m# print(A.shape)\u001b[39;00m\n\u001b[1;32m     14\u001b[0m \u001b[38;5;66;03m# print(\"///\")\u001b[39;00m\n\u001b[0;32m---> 16\u001b[0m b \u001b[38;5;241m=\u001b[39m remove_degeneracy(b)\n\u001b[1;32m     18\u001b[0m Az \u001b[38;5;241m=\u001b[39m np\u001b[38;5;241m.\u001b[39mdot(A,z) \n\u001b[1;32m     19\u001b[0m S \u001b[38;5;241m=\u001b[39m  (Az \u001b[38;5;241m<\u001b[39m\u001b[38;5;241m=\u001b[39m b)\n",
      "\u001b[0;31mNameError\u001b[0m: name 'remove_degeneracy' is not defined"
     ]
    }
   ],
   "source": [
    "main()\n",
    " \n",
    "# Test input for above Output\n",
    "\n",
    "# 0,20,0\n",
    "# 1,3,0\n",
    "# -1,1,20\n",
    "# -2,1,50\n",
    "# -1,0,0\n",
    "# 0,-1,0"
   ]
  },
  {
   "cell_type": "code",
   "execution_count": null,
   "id": "fab496b9-8e19-4815-8669-35e66710eb57",
   "metadata": {},
   "outputs": [],
   "source": []
  }
 ],
 "metadata": {
  "kernelspec": {
   "display_name": "Python 3 (ipykernel)",
   "language": "python",
   "name": "python3"
  },
  "language_info": {
   "codemirror_mode": {
    "name": "ipython",
    "version": 3
   },
   "file_extension": ".py",
   "mimetype": "text/x-python",
   "name": "python",
   "nbconvert_exporter": "python",
   "pygments_lexer": "ipython3",
   "version": "3.11.5"
  }
 },
 "nbformat": 4,
 "nbformat_minor": 5
}
