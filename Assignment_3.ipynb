{
 "cells": [
  {
   "cell_type": "code",
   "execution_count": 52,
   "id": "71441335-523f-4d7e-92b8-c26f5a768077",
   "metadata": {
    "tags": []
   },
   "outputs": [],
   "source": [
    "import numpy as np\n",
    "import pandas as pd\n",
    "from sympy import Matrix"
   ]
  },
  {
   "cell_type": "code",
   "execution_count": 53,
   "id": "71605f72-6b6a-431f-bc47-eb0a16df04d7",
   "metadata": {
    "tags": []
   },
   "outputs": [],
   "source": [
    "def find_tight_rows(_A, _z, _b, epi=1e-8):\n",
    "    # the following do multiplication of Z with the corresponding A.\n",
    "    product = np.dot(_A, _z)\n",
    "\n",
    "    # Check if the product equals b_i for each row. This will also give us a TRUE/FALSE mask of the tight rows\n",
    "    tight_mask = np.abs(product - _b) < epi #this is done to prevent rounding errors in 3D cases\n",
    "\n",
    "    A1 = _A[tight_mask.flatten()]\n",
    "    A2 = _A[~tight_mask.flatten()]\n",
    "\n",
    "    return tight_mask, A1, A2"
   ]
  },
  {
   "cell_type": "code",
   "execution_count": 54,
   "id": "970ff0b3-04e9-4507-a8a4-6038d75aebc8",
   "metadata": {
    "tags": []
   },
   "outputs": [],
   "source": [
    "def check_degeneracy(A_active):\n",
    "    return A_active.shape[0] > A_active.shape[1]"
   ]
  },
  {
   "cell_type": "code",
   "execution_count": 55,
   "id": "ece6a5e6-e2b3-4c94-ac40-46e55cba4a61",
   "metadata": {
    "tags": []
   },
   "outputs": [],
   "source": [
    "def remove_degeneracy(b, epsilon, red_fac=0.5):\n",
    "    epsilon = epsilon*red_fac\n",
    "    new_b  = np.array([b[i]+epsilon**(i+1) for i in range(len(b))])\n",
    "    return new_b, epsilon"
   ]
  },
  {
   "cell_type": "code",
   "execution_count": 56,
   "id": "1b220904-ac3c-4b30-89a3-076d2ae5d0ed",
   "metadata": {
    "tags": []
   },
   "outputs": [],
   "source": [
    "def initial_feasible_vertex(A, b, c, z, dim_n):\n",
    "    \n",
    "    bool_mask, A_active, A_inactive = find_tight_rows(A, z, b)\n",
    "    \n",
    "    if len(A_active)==0:\n",
    "        rank = 0\n",
    "    else:\n",
    "        rank = np.linalg.matrix_rank(A_active)\n",
    "    \n",
    "    if rank != dim_n:\n",
    "        \n",
    "        while rank!=dim_n:\n",
    "            \n",
    "            cost = np.dot(c, z)\n",
    "            print(f\"z: {tuple(z.flatten())}, Cost: {np.round(cost[0], 2)}\")\n",
    "            \n",
    "            direction = None\n",
    "            \n",
    "            if A_active.shape[0] == 0:\n",
    "                direction = np.random.rand(untight_rows.shape[-1])\n",
    "            else:\n",
    "                null_space_matrix = null_space(tight_rows)\n",
    "                direction = null_space_matrix[:, 0]\n",
    "            \n",
    "            while True:\n",
    "                \n",
    "                for b_, a_ in zip(b[~bool_mask], A_inactive):\n",
    "                    step_magnitudes.append((b_ - np.dot(a_, z)) / np.dot(a_, direction))\n",
    "        \n",
    "                step_magnitudes = np.array(step_magnitudes)\n",
    "                step_magnitudes = step_magnitudes[np.where(step_magnitudes > 0)[0]]\n",
    "        \n",
    "                if len(step_magnitudes) == 0:  #handling unbounded case\n",
    "                    direction = -1*direction\n",
    "                else:\n",
    "                    break\n",
    "                    \n",
    "            min_step_magnitude = np.min(step_magnitudes)\n",
    "            \n",
    "            z += min_step_magnitude * direction\n",
    "            \n",
    "            bool_mask, A_active, A_inactive = find_tight_rows(A, z, b)\n",
    "            \n",
    "            if len(A_active)==0:\n",
    "                rank = 0\n",
    "            else:\n",
    "                rank = np.linalg.matrix_rank(A_active)\n",
    "        \n",
    "        if not(check_degeneracy(A_active)):\n",
    "            return z\n",
    "        else:\n",
    "            return None\n",
    "                \n",
    "    return z"
   ]
  },
  {
   "cell_type": "code",
   "execution_count": 57,
   "id": "7a9cd068-b349-43af-89c8-435aaa97ef5d",
   "metadata": {
    "tags": []
   },
   "outputs": [],
   "source": [
    "def find_optimal_vertex(A, b, c, z):\n",
    "    \n",
    "    print(\"\\nJourney to an optimal vertex:\")\n",
    "    \n",
    "    # Identify active constraints where A·z = b\n",
    "    bool_mask, A_active, A_inactive = find_tight_rows(A, z, b)\n",
    "    \n",
    "    # Compute initial reduced costs\n",
    "    epsilons = -1*np.linalg.inv(A_active).T\n",
    "    epsilons = epsilons.dot(c)\n",
    "\n",
    "    while np.any(epsilons > 0):  # While there are negative reduced costs\n",
    "        \n",
    "        if check_degeneracy(A_active):\n",
    "            return None\n",
    "        \n",
    "        beta = 1e-1  # Step size\n",
    "        cost = np.dot(c.T, z)  # Calculate current objective value\n",
    "        print(f\"z: {tuple(z.flatten())}; Cost: {np.round(cost[0], 2)}\")\n",
    "\n",
    "        # Find the direction of improvement (negative reduced cost)\n",
    "        A_active_inv = np.linalg.inv(A_active)\n",
    "        directions = -1*A_active_inv\n",
    "        \n",
    "        direction = None\n",
    "        for i, epsilon in enumerate(epsilons):\n",
    "            if epsilon > 0:\n",
    "                direction = directions[:, i:i + 1]\n",
    "                break\n",
    "        \n",
    "        if direction is None:\n",
    "            print(\"No direction for improvement found.\")\n",
    "            return z, \"no direction\"       \n",
    "        \n",
    "        step_magnitudes = []\n",
    "        # print(A_inactive)\n",
    "        # print(z)\n",
    "        # print(b[~bool_mask])\n",
    "        for b_, a_ in zip(b[~bool_mask], A_inactive):\n",
    "            step_magnitudes.append((b_ - np.dot(a_, z)) / np.dot(a_, direction))\n",
    "        \n",
    "        # print(direction)\n",
    "        step_magnitudes = np.array(step_magnitudes)\n",
    "        # print(step_magnitudes)\n",
    "        step_magnitudes = step_magnitudes[np.where(step_magnitudes > 0)[0]]\n",
    "        \n",
    "        if len(step_magnitudes) == 0 : # Handling unbounded case\n",
    "            print(f\"The problem is unbounded. Can't find a optimal solution!\")\n",
    "            return None, \"unbounded\"\n",
    "        \n",
    "        min_step_magnitude = np.min(step_magnitudes)\n",
    "        # print(min_step_magnitude)\n",
    "        \n",
    "        z = z.astype(float)\n",
    "        z += min_step_magnitude * direction\n",
    "        \n",
    "        bool_mask, A_active, A_inactive = find_tight_rows(A, z, b)\n",
    "        epsilons = -1*np.linalg.inv(A_active).T\n",
    "        epsilons = epsilons.dot(c)\n",
    "\n",
    "    # Print the final optimal vertex and cost\n",
    "    cost = np.dot(c.T, z)\n",
    "    print(f\"Optimal Vertex: z = {tuple(z.flatten())}; Cost = {np.round(cost[0], 2)}\")\n",
    "\n",
    "    return z, \"optimal\"\n"
   ]
  },
  {
   "cell_type": "code",
   "execution_count": 58,
   "id": "5a77e6ec-5848-4ab8-8c57-6c7869b05538",
   "metadata": {
    "tags": []
   },
   "outputs": [],
   "source": [
    "def main():\n",
    "    file_name = 'asg_3_test_case.csv'\n",
    "    problem_stmt = pd.read_csv(file_name, header=None)\n",
    "    \n",
    "    z = problem_stmt.iloc[0, :-1].values.reshape(-1, 1)\n",
    "    c = problem_stmt.iloc[1, :-1].values\n",
    "    b = problem_stmt.iloc[2:, -1:].values\n",
    "    A = problem_stmt.iloc[2:, :-1].values\n",
    "\n",
    "    trials = 0\n",
    "    epsilon = 0.1\n",
    "    \n",
    "    while True:\n",
    "        \n",
    "        if trials > 0:\n",
    "            print(\"Trying to remove degeneracy of b\")\n",
    "            b, epsilon = remove_degeneracy(b, epsilon)\n",
    "        \n",
    "        initital_neighbour = initial_feasible_vertex(A, b, c, z, len(c))\n",
    "        \n",
    "        if not isinstance(initital_neighbour, np.ndarray):\n",
    "            trial+=1\n",
    "            continue\n",
    "    \n",
    "        result = find_optimal_vertex(A, b, c, initital_neighbour)\n",
    "\n",
    "        if len(result) == 1:\n",
    "            trials+=1\n",
    "            continue\n",
    "        \n",
    "        z_optimal, comment = result\n",
    "        \n",
    "        if comment == \"optimal\":\n",
    "            print(z_optimal)\n",
    "        break\n"
   ]
  },
  {
   "cell_type": "code",
   "execution_count": 59,
   "id": "17574229-4ec5-47d0-8087-60d048b3be24",
   "metadata": {
    "tags": []
   },
   "outputs": [
    {
     "name": "stdout",
     "output_type": "stream",
     "text": [
      "\n",
      "Journey to an optimal vertex:\n",
      "z: (0, 20); Cost: 60\n",
      "The problem is unbounded. Can't find a optimal solution!\n"
     ]
    }
   ],
   "source": [
    "main()"
   ]
  },
  {
   "cell_type": "code",
   "execution_count": null,
   "id": "fab496b9-8e19-4815-8669-35e66710eb57",
   "metadata": {},
   "outputs": [],
   "source": []
  }
 ],
 "metadata": {
  "kernelspec": {
   "display_name": "Python 3 (ipykernel)",
   "language": "python",
   "name": "python3"
  },
  "language_info": {
   "codemirror_mode": {
    "name": "ipython",
    "version": 3
   },
   "file_extension": ".py",
   "mimetype": "text/x-python",
   "name": "python",
   "nbconvert_exporter": "python",
   "pygments_lexer": "ipython3",
   "version": "3.11.5"
  }
 },
 "nbformat": 4,
 "nbformat_minor": 5
}
